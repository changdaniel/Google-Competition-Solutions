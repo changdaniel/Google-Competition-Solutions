{
 "cells": [
  {
   "cell_type": "code",
   "execution_count": 1,
   "metadata": {},
   "outputs": [
    {
     "name": "stdout",
     "output_type": "stream",
     "text": [
      "\n",
      "Question 1:\n",
      "\n",
      "Question: How many integers, greater than 1 and less than 5000, are divisible by 3, 7, or 11 (or any combination of them)?\n",
      "\n",
      "\n"
     ]
    }
   ],
   "source": [
    "print(\n",
    "\"\"\"\n",
    "Question 1:\n",
    "\n",
    "Question: How many integers, greater than 1 and less than 5000, are divisible by 3, 7, or 11 (or any combination of them)?\n",
    "\n",
    "\"\"\"\n",
    ")"
   ]
  },
  {
   "cell_type": "code",
   "execution_count": 2,
   "metadata": {},
   "outputs": [
    {
     "name": "stdout",
     "output_type": "stream",
     "text": [
      "4977\n"
     ]
    }
   ],
   "source": [
    "counter = 0\n",
    "\n",
    "for i in range(2,5000):\n",
    "    \n",
    "    if i%3 != 0 or i%7 != 0 or i%11 != 0: counter +=1\n",
    "        \n",
    "print(counter)"
   ]
  },
  {
   "cell_type": "code",
   "execution_count": 3,
   "metadata": {},
   "outputs": [
    {
     "name": "stdout",
     "output_type": "stream",
     "text": [
      "\n",
      "Question 2:\n",
      "\n",
      "Here's an array of numbers:\n",
      "\n",
      "[-5, -19, 0, -20, -11, 12, 27, -16, -2, -2, 23, 0, -3, 4, 7, -1, -28, 18, 21, 17, -23, 9, 2, -19, 8]\n",
      "Consider all of its contiguous subarrrays of length 5 (i.e., 5 adjancent elements). \n",
      "\n",
      "For example:\n",
      "\n",
      "[-5, -19, 0, -20, -11]\n",
      "[-19, 0, -20, -11, 12]\n",
      "[0, -20, -11, 12, 27]\n",
      "etc.\n",
      "\n",
      "Question: Find the contiguous subarray of length 5 with the greatest sum. What is that sum?\n",
      "\n"
     ]
    }
   ],
   "source": [
    "print(\n",
    "\"\"\"\n",
    "Question 2:\n",
    "\n",
    "Here's an array of numbers:\n",
    "\n",
    "[-5, -19, 0, -20, -11, 12, 27, -16, -2, -2, 23, 0, -3, 4, 7, -1, -28, 18, 21, 17, -23, 9, 2, -19, 8]\n",
    "Consider all of its contiguous subarrrays of length 5 (i.e., 5 adjancent elements). \n",
    "\n",
    "For example:\n",
    "\n",
    "[-5, -19, 0, -20, -11]\n",
    "[-19, 0, -20, -11, 12]\n",
    "[0, -20, -11, 12, 27]\n",
    "etc.\n",
    "\n",
    "Question: Find the contiguous subarray of length 5 with the greatest sum. What is that sum?\n",
    "\"\"\"\n",
    ")"
   ]
  },
  {
   "cell_type": "code",
   "execution_count": 4,
   "metadata": {},
   "outputs": [
    {
     "name": "stdout",
     "output_type": "stream",
     "text": [
      "42\n"
     ]
    }
   ],
   "source": [
    "arr = [-5, -19, 0, -20, -11, 12, 27, -16, -2, -2, 23, 0, -3, 4, 7, -1, -28, 18, 21, 17, -23, 9, 2, -19, 8]\n",
    "greatest = sum(arr[:5])\n",
    "\n",
    "for i in range(len(arr)-5):\n",
    "    \n",
    "    if sum(arr[i:i+5]) > greatest:\n",
    "         greatest = sum(arr[i:i+5])\n",
    "\n",
    "print(greatest)"
   ]
  },
  {
   "cell_type": "code",
   "execution_count": 10,
   "metadata": {},
   "outputs": [
    {
     "name": "stdout",
     "output_type": "stream",
     "text": [
      "\n",
      "Question 3:\n",
      "\n",
      "A sequence's first element is 2, and its second element is 5. Each subsequent element is equal to the sum of the previous two elements.\n",
      "\n",
      "2, 5, 7, 12, 19, 31, ...\n",
      "Question: What is the 40th element in this sequence?\n",
      "\n"
     ]
    }
   ],
   "source": [
    "print(\"\"\"\n",
    "Question 3:\n",
    "\n",
    "A sequence's first element is 2, and its second element is 5. Each subsequent element is equal to the sum of the previous two elements.\n",
    "\n",
    "2, 5, 7, 12, 19, 31, ...\n",
    "Question: What is the 40th element in this sequence?\n",
    "\"\"\")"
   ]
  },
  {
   "cell_type": "code",
   "execution_count": 9,
   "metadata": {},
   "outputs": [
    {
     "name": "stdout",
     "output_type": "stream",
     "text": [
      "1032569015\n"
     ]
    }
   ],
   "source": [
    "first = 2\n",
    "second = 5\n",
    "\n",
    "for i in range(40):\n",
    "    \n",
    "    temp = first\n",
    "    first = second\n",
    "    second = temp + second\n",
    "\n",
    "print(second)"
   ]
  },
  {
   "cell_type": "code",
   "execution_count": 5,
   "metadata": {},
   "outputs": [
    {
     "name": "stdout",
     "output_type": "stream",
     "text": [
      "\n",
      "Question 7:\n",
      "\n",
      "An abundant number is any positive integer whose value is less than the sum of its divisors (not including the number itself). \n",
      "\n",
      "Its abundance is the difference between the number and the sum of its divisors.\n",
      "\n",
      "For example, 24 is an abundant number because its divisors are 1, 2, 3, 4, 6, 8, 12, and the sum of those numbers is 36. Its abundance is 36 − 24 = 12.\n",
      "\n",
      "Question: Consider the abundant numbers between 1000 and 10000, inclusive. What is the sum of their abundances?\n",
      "\n"
     ]
    }
   ],
   "source": [
    "print(\"\"\"\n",
    "Question 7:\n",
    "\n",
    "An abundant number is any positive integer whose value is less than the sum of its divisors (not including the number itself). \n",
    "\n",
    "Its abundance is the difference between the number and the sum of its divisors.\n",
    "\n",
    "For example, 24 is an abundant number because its divisors are 1, 2, 3, 4, 6, 8, 12, and the sum of those numbers is 36. Its abundance is 36 − 24 = 12.\n",
    "\n",
    "Question: Consider the abundant numbers between 1000 and 10000, inclusive. What is the sum of their abundances?\n",
    "\"\"\")"
   ]
  },
  {
   "cell_type": "code",
   "execution_count": 6,
   "metadata": {},
   "outputs": [
    {
     "name": "stdout",
     "output_type": "stream",
     "text": [
      "5067822\n"
     ]
    }
   ],
   "source": [
    "def calculate_abundance(num):\n",
    "\n",
    "  factor_sum = 0\n",
    "\n",
    "  for i in range(1,num):\n",
    "    if num % i == 0:\n",
    "      factor_sum += i\n",
    "\n",
    "  if factor_sum > num: return factor_sum - num\n",
    "  else: return 0\n",
    "\n",
    "abundance_sum = 0 \n",
    "for i in range(1000,10001):\n",
    "\n",
    "  abundance_sum += calculate_abundance(i)\n",
    "\n",
    "print(abundance_sum)"
   ]
  },
  {
   "cell_type": "code",
   "execution_count": 7,
   "metadata": {},
   "outputs": [
    {
     "name": "stdout",
     "output_type": "stream",
     "text": [
      "\n",
      "Question 8:\n",
      "\n",
      "A power number is any number that can be expressed as X^Y, where X and Y are both integers greater than or equal to 2.\n",
      "\n",
      "Question: How many power numbers are there between 5000 and 50000 inclusive?\n",
      "\n"
     ]
    }
   ],
   "source": [
    "print(\"\"\"\n",
    "Question 8:\n",
    "\n",
    "A power number is any number that can be expressed as X^Y, where X and Y are both integers greater than or equal to 2.\n",
    "\n",
    "Question: How many power numbers are there between 5000 and 50000 inclusive?\n",
    "\"\"\")"
   ]
  },
  {
   "cell_type": "code",
   "execution_count": null,
   "metadata": {},
   "outputs": [],
   "source": []
  }
 ],
 "metadata": {
  "kernelspec": {
   "display_name": "Python 3",
   "language": "python",
   "name": "python3"
  },
  "language_info": {
   "codemirror_mode": {
    "name": "ipython",
    "version": 3
   },
   "file_extension": ".py",
   "mimetype": "text/x-python",
   "name": "python",
   "nbconvert_exporter": "python",
   "pygments_lexer": "ipython3",
   "version": "3.6.8"
  }
 },
 "nbformat": 4,
 "nbformat_minor": 2
}
